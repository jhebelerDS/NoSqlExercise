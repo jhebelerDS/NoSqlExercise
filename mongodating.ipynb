{
 "cells": [
  {
   "cell_type": "markdown",
   "id": "f0335420",
   "metadata": {},
   "source": [
    "## Mongo Dating Notebook"
   ]
  },
  {
   "cell_type": "markdown",
   "id": "2777e6c8",
   "metadata": {},
   "source": [
    "5. Find all the matches:  \n",
    "db.events.find({match: 1}).count()"
   ]
  },
  {
   "cell_type": "markdown",
   "id": "cf2f4ff2",
   "metadata": {},
   "source": [
    "Features needed to build a prediction model for matches:  \n",
    "All of the features of personality that are not null and the numerical data points besides the zipcode."
   ]
  },
  {
   "cell_type": "markdown",
   "id": "35efaee1",
   "metadata": {},
   "source": [
    "### Contrasting MongoDB vs Neo4j"
   ]
  },
  {
   "cell_type": "markdown",
   "id": "c74da928",
   "metadata": {},
   "source": [
    "* Neo4j has foreign keys while Mongo does not\n",
    "* Neo4j supports SQL and MongoDB supports to Read-only SQL queries\n",
    "* Neo4j database model is a Graph database management system while Mongo is a document store.\n"
   ]
  },
  {
   "cell_type": "markdown",
   "id": "2a1dfeaa",
   "metadata": {},
   "source": [
    "I believe Neo4j since it is based off a Graph database would be better for a data set that has more relationships whereas MongoDB is more for a straightforward standalone data."
   ]
  },
  {
   "cell_type": "markdown",
   "id": "e3cf04e5",
   "metadata": {},
   "source": [
    "MongoDB is better suited for unstructured data while Neo4j is better used for analytics applications and represent relationships."
   ]
  },
  {
   "cell_type": "code",
   "execution_count": null,
   "id": "71e5f58a",
   "metadata": {},
   "outputs": [],
   "source": []
  }
 ],
 "metadata": {
  "kernelspec": {
   "display_name": "Python 3 (ipykernel)",
   "language": "python",
   "name": "python3"
  },
  "language_info": {
   "codemirror_mode": {
    "name": "ipython",
    "version": 3
   },
   "file_extension": ".py",
   "mimetype": "text/x-python",
   "name": "python",
   "nbconvert_exporter": "python",
   "pygments_lexer": "ipython3",
   "version": "3.8.10"
  }
 },
 "nbformat": 4,
 "nbformat_minor": 5
}
