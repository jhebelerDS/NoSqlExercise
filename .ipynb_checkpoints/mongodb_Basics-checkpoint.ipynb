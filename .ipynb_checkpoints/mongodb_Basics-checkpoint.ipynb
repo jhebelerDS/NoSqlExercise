{
 "cells": [
  {
   "cell_type": "markdown",
   "id": "93fba13a-387a-42a7-8a71-01485dcfca21",
   "metadata": {},
   "source": [
    "# Install Library, if necessary"
   ]
  },
  {
   "cell_type": "code",
   "execution_count": null,
   "id": "b8c24800-26f1-42d1-9fd2-bcbf06e7f0ce",
   "metadata": {},
   "outputs": [],
   "source": [
    "Install Library if necessary\n",
    "! pip install pymongo"
   ]
  },
  {
   "cell_type": "markdown",
   "id": "ca71f24a-a32e-4bca-8fa6-e625fb8f9816",
   "metadata": {},
   "source": [
    "# Import main mongo class"
   ]
  },
  {
   "cell_type": "code",
   "execution_count": 1,
   "id": "5cda7c63-ac37-42ac-a450-5824be45beff",
   "metadata": {},
   "outputs": [],
   "source": [
    "from pymongo import MongoClient"
   ]
  },
  {
   "cell_type": "markdown",
   "id": "31d7116e-81cc-4ba0-ab08-ad2919d8110b",
   "metadata": {
    "tags": []
   },
   "source": [
    "# Connect to mongo database"
   ]
  },
  {
   "cell_type": "code",
   "execution_count": 2,
   "id": "4fc4dd06-c07f-40e9-97dc-94e1d02265a6",
   "metadata": {},
   "outputs": [],
   "source": [
    "client = MongoClient(\"192.168.2.70\", 27017)"
   ]
  },
  {
   "cell_type": "markdown",
   "id": "83c23481-ef35-4ab5-b877-5756766d8232",
   "metadata": {},
   "source": [
    "# List current databases in mongo"
   ]
  },
  {
   "cell_type": "code",
   "execution_count": 3,
   "id": "199ca5aa-8a6d-40ad-85fe-070241ac0cc6",
   "metadata": {},
   "outputs": [
    {
     "name": "stdout",
     "output_type": "stream",
     "text": [
      "['admin', 'config', 'local', 'speeddating', 'test', 'testdb']\n"
     ]
    }
   ],
   "source": [
    "dbs = client.list_database_names()\n",
    "print(dbs)"
   ]
  },
  {
   "cell_type": "markdown",
   "id": "974c65c6-c190-494a-87fb-76c7d1f1607b",
   "metadata": {
    "tags": []
   },
   "source": [
    "# Add content (and a new database and collection)"
   ]
  },
  {
   "cell_type": "code",
   "execution_count": 4,
   "id": "31dac6d1-99d5-466d-b7d3-fce2c010bfc6",
   "metadata": {},
   "outputs": [],
   "source": [
    "mydb = client[\"mydatabase\"]\n",
    "mycol = mydb[\"mycol\"]\n",
    "\n",
    "myentry = { \"name\": \"John\", \"address\": \"Highway 37\" }\n",
    "\n",
    "x = mycol.insert_one(myentry)"
   ]
  },
  {
   "cell_type": "markdown",
   "id": "ee0e83d6-969d-4039-8919-c84429e918dd",
   "metadata": {},
   "source": [
    "# Query for content"
   ]
  },
  {
   "cell_type": "code",
   "execution_count": 7,
   "id": "5a8f2d8a-2b20-412b-b90e-1ddc132c9edc",
   "metadata": {},
   "outputs": [
    {
     "name": "stdout",
     "output_type": "stream",
     "text": [
      "{'_id': ObjectId('632df4c412ec3d71f94dd457'), 'name': 'John', 'address': 'Highway 37'}\n"
     ]
    }
   ],
   "source": [
    "myquery = { \"name\": \"John\" }\n",
    "\n",
    "mydoc = mycol.find(myquery)\n",
    "\n",
    "for rec in mydoc:\n",
    "    print( rec)\n"
   ]
  },
  {
   "cell_type": "code",
   "execution_count": null,
   "id": "7b11a5cf-aa9f-4e0c-a565-d0324b0c20df",
   "metadata": {},
   "outputs": [],
   "source": []
  }
 ],
 "metadata": {
  "kernelspec": {
   "display_name": "Python 3 (ipykernel)",
   "language": "python",
   "name": "python3"
  },
  "language_info": {
   "codemirror_mode": {
    "name": "ipython",
    "version": 3
   },
   "file_extension": ".py",
   "mimetype": "text/x-python",
   "name": "python",
   "nbconvert_exporter": "python",
   "pygments_lexer": "ipython3",
   "version": "3.8.10"
  }
 },
 "nbformat": 4,
 "nbformat_minor": 5
}
