{
 "cells": [
  {
   "cell_type": "markdown",
   "id": "bae17a06-3456-4453-a87c-23980e6d3c51",
   "metadata": {},
   "source": [
    "# Install NeoLibrary, if necessary"
   ]
  },
  {
   "cell_type": "code",
   "execution_count": null,
   "id": "795f129e-399c-44fe-bcd6-b191fe160721",
   "metadata": {},
   "outputs": [],
   "source": [
    "!pip install py2neo"
   ]
  },
  {
   "cell_type": "markdown",
   "id": "ce849280-5661-4bc4-9957-9190ad87a79c",
   "metadata": {},
   "source": [
    "# Import main neo class"
   ]
  },
  {
   "cell_type": "code",
   "execution_count": 1,
   "id": "0c6147f6-dc86-434c-a5ad-f50ca2ec0be5",
   "metadata": {},
   "outputs": [],
   "source": [
    "from py2neo import Graph"
   ]
  },
  {
   "cell_type": "markdown",
   "id": "e182ed2f-f8cf-4719-a7b1-44773c490d59",
   "metadata": {},
   "source": [
    "# Connect to Neo4J Database"
   ]
  },
  {
   "cell_type": "code",
   "execution_count": 2,
   "id": "224929f5-9ff6-4413-b5cd-7bde3af2fb32",
   "metadata": {},
   "outputs": [],
   "source": [
    "graph = Graph(\"bolt://192.168.2.70:7687\", auth=(\"neo4j\", \"deep\"))"
   ]
  },
  {
   "cell_type": "markdown",
   "id": "f90c5bcd-7a19-4795-ab34-01d0cace5977",
   "metadata": {},
   "source": [
    "# ADD content"
   ]
  },
  {
   "cell_type": "code",
   "execution_count": 12,
   "id": "6018286c-6765-4d2e-911b-9dc7dffdda00",
   "metadata": {},
   "outputs": [
    {
     "data": {
      "text/html": [
       "(No data)"
      ],
      "text/plain": [
       "(No data)"
      ]
     },
     "execution_count": 12,
     "metadata": {},
     "output_type": "execute_result"
    }
   ],
   "source": [
    "cypher = \"MERGE (:Artist { name: 'John', age: toInteger(35)})\"\n",
    "graph.run(cypher)"
   ]
  },
  {
   "cell_type": "markdown",
   "id": "8b662783-f7cb-4d50-bfa9-083b1a97daea",
   "metadata": {},
   "source": [
    "# Query for results"
   ]
  },
  {
   "cell_type": "code",
   "execution_count": 13,
   "id": "e5496c2e-4e7f-43c5-9a50-313f224b93e0",
   "metadata": {},
   "outputs": [
    {
     "name": "stdout",
     "output_type": "stream",
     "text": [
      "<class 'py2neo.cypher.Cursor'>\n"
     ]
    }
   ],
   "source": [
    "cypher = \"MATCH(a:Artist {name:'John'}) Return a.name, a.age\"\n",
    "results = graph.run(cypher)\n",
    "print(type(results))"
   ]
  },
  {
   "cell_type": "code",
   "execution_count": 14,
   "id": "fca56fca-760f-4999-b17b-3e8f6f884c44",
   "metadata": {},
   "outputs": [
    {
     "name": "stdout",
     "output_type": "stream",
     "text": [
      "0 :  'John'\t35\n",
      "<class 'py2neo.cypher.Record'>\n",
      "Name:  John\n",
      "Age:  35\n"
     ]
    }
   ],
   "source": [
    "for index, rec in enumerate(results):\n",
    "  print(index, \": \", rec)\n",
    "  print(type(rec))\n",
    "  print(\"Name: \", rec[\"a.name\"])\n",
    "  print(\"Age: \", rec[\"a.age\"])\n"
   ]
  },
  {
   "cell_type": "markdown",
   "id": "c3f0b962-bede-4482-871b-196b4e28101f",
   "metadata": {},
   "source": [
    "# Create Relationships"
   ]
  },
  {
   "cell_type": "code",
   "execution_count": 15,
   "id": "a3e31665-c0f1-42c5-824c-1513c4336717",
   "metadata": {},
   "outputs": [
    {
     "data": {
      "text/html": [
       "(No data)"
      ],
      "text/plain": [
       "(No data)"
      ]
     },
     "execution_count": 15,
     "metadata": {},
     "output_type": "execute_result"
    }
   ],
   "source": [
    "# first add another person\n",
    "cypher = \"MERGE (:Artist { name: 'Sue', age: toInteger(32)})\"\n",
    "graph.run(cypher)"
   ]
  },
  {
   "cell_type": "code",
   "execution_count": 16,
   "id": "434a47a7-7c6b-4992-b157-acd8540a2aa6",
   "metadata": {},
   "outputs": [
    {
     "data": {
      "text/html": [
       "(No data)"
      ],
      "text/plain": [
       "(No data)"
      ]
     },
     "execution_count": 16,
     "metadata": {},
     "output_type": "execute_result"
    }
   ],
   "source": [
    "#establish the relationship\n",
    "cypher= 'MATCH(j:Artist {name: \"John\"}) MATCH(s:Artist {name:\"Sue\"}) MERGE((j) - [:knows {date:\"1/4/2020\"}] -> (s))' \n",
    "graph.run(cypher)"
   ]
  },
  {
   "cell_type": "markdown",
   "id": "9fc3625c-f9d9-4ce0-9691-58ee9aa8a055",
   "metadata": {},
   "source": [
    "# Query for the Relationship"
   ]
  },
  {
   "cell_type": "code",
   "execution_count": 17,
   "id": "6d3b142b-4f1f-4d5d-a86e-cade57c5886c",
   "metadata": {},
   "outputs": [
    {
     "name": "stdout",
     "output_type": "stream",
     "text": [
      "(John)-[:knows {date: '1/4/2020'}]->(Sue)\n"
     ]
    }
   ],
   "source": [
    "cypher = \"MATCH( (a:Artist) - [rel:knows] -> (b:Artist)) return rel, a.name, b.name\"\n",
    "results = graph.run(cypher)\n",
    "for index, rec in enumerate(results):\n",
    "    print( rec['rel'])"
   ]
  },
  {
   "cell_type": "markdown",
   "id": "1cda2585-e416-4f7c-888b-d0e507c53ceb",
   "metadata": {},
   "source": [
    "# Delete Nodes and Relationships"
   ]
  },
  {
   "cell_type": "code",
   "execution_count": 9,
   "id": "e2327ba8-2227-4d2f-950c-eb2cbfae2666",
   "metadata": {},
   "outputs": [
    {
     "data": {
      "text/html": [
       "(No data)"
      ],
      "text/plain": [
       "(No data)"
      ]
     },
     "execution_count": 9,
     "metadata": {},
     "output_type": "execute_result"
    }
   ],
   "source": [
    "cypher = \"MATCH (n:Artist) DETACH DELETE n\"\n",
    "graph.run(cypher)"
   ]
  }
 ],
 "metadata": {
  "kernelspec": {
   "display_name": "Python 3 (ipykernel)",
   "language": "python",
   "name": "python3"
  },
  "language_info": {
   "codemirror_mode": {
    "name": "ipython",
    "version": 3
   },
   "file_extension": ".py",
   "mimetype": "text/x-python",
   "name": "python",
   "nbconvert_exporter": "python",
   "pygments_lexer": "ipython3",
   "version": "3.8.10"
  }
 },
 "nbformat": 4,
 "nbformat_minor": 5
}
