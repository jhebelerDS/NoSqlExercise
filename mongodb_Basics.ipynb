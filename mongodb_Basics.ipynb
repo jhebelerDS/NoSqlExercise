{
 "cells": [
  {
   "cell_type": "code",
   "execution_count": null,
   "id": "b8c24800-26f1-42d1-9fd2-bcbf06e7f0ce",
   "metadata": {},
   "outputs": [],
   "source": [
    "Install Library if necessary\n",
    "! pip install pymongo"
   ]
  },
  {
   "cell_type": "code",
   "execution_count": 2,
   "id": "5cda7c63-ac37-42ac-a450-5824be45beff",
   "metadata": {},
   "outputs": [],
   "source": [
    "from pymongo import MongoClient"
   ]
  },
  {
   "cell_type": "code",
   "execution_count": 4,
   "id": "4fc4dd06-c07f-40e9-97dc-94e1d02265a6",
   "metadata": {},
   "outputs": [],
   "source": [
    "client = MongoClient(\"192.168.2.70\", 27017)"
   ]
  },
  {
   "cell_type": "code",
   "execution_count": 5,
   "id": "199ca5aa-8a6d-40ad-85fe-070241ac0cc6",
   "metadata": {},
   "outputs": [
    {
     "name": "stdout",
     "output_type": "stream",
     "text": [
      "['admin', 'config', 'local', 'speeddating', 'test', 'testdb']\n"
     ]
    }
   ],
   "source": [
    "dbs = client.list_database_names()\n",
    "print(dbs)"
   ]
  },
  {
   "cell_type": "code",
   "execution_count": null,
   "id": "d078e26b-b31b-4e5f-a5af-c3ab7392c682",
   "metadata": {},
   "outputs": [],
   "source": []
  }
 ],
 "metadata": {
  "kernelspec": {
   "display_name": "Python 3 (ipykernel)",
   "language": "python",
   "name": "python3"
  },
  "language_info": {
   "codemirror_mode": {
    "name": "ipython",
    "version": 3
   },
   "file_extension": ".py",
   "mimetype": "text/x-python",
   "name": "python",
   "nbconvert_exporter": "python",
   "pygments_lexer": "ipython3",
   "version": "3.8.10"
  }
 },
 "nbformat": 4,
 "nbformat_minor": 5
}
